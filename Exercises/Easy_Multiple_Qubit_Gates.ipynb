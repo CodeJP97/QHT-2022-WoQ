{
 "cells": [
  {
   "cell_type": "code",
   "execution_count": 1,
   "id": "placed-wages",
   "metadata": {},
   "outputs": [],
   "source": [
    "import numpy as np\n",
    "# Importing standard Qiskit libraries\n",
    "from qiskit import QuantumCircuit, transpile, Aer, IBMQ, assemble, execute\n",
    "from qiskit.tools.jupyter import *\n",
    "from qiskit.visualization import *\n",
    "from ibm_quantum_widgets import *\n",
    "\n",
    "# Loading your IBM Quantum account(s)\n",
    "provider = IBMQ.load_account()"
   ]
  },
  {
   "cell_type": "markdown",
   "id": "injured-variable",
   "metadata": {},
   "source": [
    "## Multiple Qubit Gates"
   ]
  },
  {
   "cell_type": "markdown",
   "id": "major-universal",
   "metadata": {},
   "source": [
    "Single qubits are interesting, but individually they offer no computational advantage. We will now look at how we represent multiple qubits, and how these qubits can interact with each other. We have seen how we can represent the state of a qubit using a 2D-vector, now we will see how we can represent the state of multiple qubits. \n",
    "\n",
    "In qiskit we have a range of multiple qubit case up for use:\n",
    "\n",
    "    qc.cx(c,t)  # controlled X gate (CNOT)\n",
    "    qc.cz(c,t)    # controlled Z-gate\n",
    "    qc.cy(c,t)    # Controlled Y-gate\n",
    "    qc.ch(c,t)    # Controlled Hadamard gate\n",
    "\n",
    "\n",
    "Each of these gates required two inputs: `c` which is the control qubit and `t`, being the target qubit. A controlled gates works in such a way that if the `c`-qubit is in state $|1\\rangle$ the controlled gate will be applied to the `t`-qubit. \n",
    "\n",
    "\n"
   ]
  },
  {
   "cell_type": "markdown",
   "id": "automated-trace",
   "metadata": {},
   "source": [
    "## 1. Work with CNOT-gate"
   ]
  },
  {
   "cell_type": "markdown",
   "id": "frank-absence",
   "metadata": {},
   "source": [
    "<b> 1.) Apply the CNOT gate on the $|00\\rangle$ state. What is the outcome?\n",
    "    \n",
    "<b>    Answer: The state is $|00\\rangle$ !"
   ]
  },
  {
   "cell_type": "code",
   "execution_count": 2,
   "id": "recorded-credit",
   "metadata": {},
   "outputs": [
    {
     "data": {
      "image/png": "[encoded data removed]",
      "text/plain": [
       "<Figure size 146.652x204.68 with 1 Axes>"
      ]
     },
     "execution_count": 2,
     "metadata": {},
     "output_type": "execute_result"
    }
   ],
   "source": [
    "#Apply the CNOT gate to the 00 state\n",
    "#\n",
    "qc=QuantumCircuit(2,2)\n",
    "#\n",
    "qc.cx(0,1)\n",
    "#\n",
    "qc.draw()"
   ]
  },
  {
   "cell_type": "markdown",
   "id": "exciting-stevens",
   "metadata": {},
   "source": [
    "<b> 2.) Apply the CNOT gate on the $|10\\rangle$ state. What is the outcome? \n",
    "    \n",
    "<b>    Answer: The state is $|11\\rangle$"
   ]
  },
  {
   "cell_type": "code",
   "execution_count": 3,
   "id": "duplicate-width",
   "metadata": {},
   "outputs": [
    {
     "data": {
      "image/png": "[encoded data removed]",
      "text/plain": [
       "<Figure size 206.852x204.68 with 1 Axes>"
      ]
     },
     "execution_count": 3,
     "metadata": {},
     "output_type": "execute_result"
    }
   ],
   "source": [
    "#Apply the CNOT gate to the 10 state\n",
    "#\n",
    "qc=QuantumCircuit(2,2)\n",
    "#\n",
    "qc.x(0)\n",
    "qc.cx(0,1)\n",
    "\n",
    "#\n",
    "qc.draw()"
   ]
  },
  {
   "cell_type": "markdown",
   "id": "herbal-lindsay",
   "metadata": {},
   "source": [
    "## 2. Work with controlled gates"
   ]
  },
  {
   "cell_type": "markdown",
   "id": "cross-inclusion",
   "metadata": {},
   "source": [
    "1.) Make a Bell state $|\\psi\\rangle = \\frac{1}{\\sqrt{2}} (|00\\rangle + |11\\rangle)  $"
   ]
  },
  {
   "cell_type": "code",
   "execution_count": 5,
   "id": "designed-territory",
   "metadata": {},
   "outputs": [
    {
     "data": {
      "image/png": "[encoded data removed]",
      "text/plain": [
       "<Figure size 504x360 with 1 Axes>"
      ]
     },
     "execution_count": 5,
     "metadata": {},
     "output_type": "execute_result"
    }
   ],
   "source": [
    "#Apply the CNOT gate to the 00 state\n",
    "#\n",
    "qc=QuantumCircuit(2,2)\n",
    "#\n",
    "qc.h(0)\n",
    "qc.cx(0,1)\n",
    "#\n",
    "\n",
    "for i in range(2):\n",
    "    qc.measure(i,i)\n",
    "\n",
    "\n",
    "backend = Aer.get_backend('qasm_simulator') # we choose the simulator as our backend\n",
    "counts = execute(qc, backend, shots = 1024).result().get_counts() # we run the simulation and get the counts\n",
    "plot_histogram(counts) \n"
   ]
  },
  {
   "cell_type": "markdown",
   "id": "frequent-adoption",
   "metadata": {},
   "source": [
    "2.) Make a Bell state $|\\psi\\rangle = \\frac{1}{\\sqrt{2}} (|10\\rangle - |01\\rangle)  $"
   ]
  },
  {
   "cell_type": "code",
   "execution_count": 9,
   "id": "harmful-effects",
   "metadata": {},
   "outputs": [
    {
     "data": {
      "image/png": "[encoded data removed]",
      "text/plain": [
       "<Figure size 504x360 with 1 Axes>"
      ]
     },
     "execution_count": 9,
     "metadata": {},
     "output_type": "execute_result"
    }
   ],
   "source": [
    "#Apply the CNOT gate to the 00 state\n",
    "#\n",
    "qc=QuantumCircuit(2,2)\n",
    "#\n",
    "# FILL YOUR CODE IN HERE\n",
    "\n",
    "qc.h(0)\n",
    "qc.z(0)\n",
    "qc.x(1)\n",
    "qc.cx(0,1)\n",
    "\n",
    "\n",
    "for i in range(2):\n",
    "    qc.measure(i,i)\n",
    "\n",
    "\n",
    "backend = Aer.get_backend('qasm_simulator') # we choose the simulator as our backend\n",
    "counts = execute(qc, backend, shots = 1024).result().get_counts() # we run the simulation and get the counts\n",
    "plot_histogram(counts) "
   ]
  },
  {
   "cell_type": "code",
   "execution_count": null,
   "id": "experienced-concord",
   "metadata": {},
   "outputs": [],
   "source": []
  }
 ],
 "metadata": {
  "kernelspec": {
   "display_name": "Qiskit v0.35.0 (ipykernel)",
   "language": "python",
   "name": "python3"
  },
  "language_info": {
   "codemirror_mode": {
    "name": "ipython",
    "version": 3
   },
   "file_extension": ".py",
   "mimetype": "text/x-python",
   "name": "python",
   "nbconvert_exporter": "python",
   "pygments_lexer": "ipython3",
   "version": "3.8.13"
  },
  "widgets": {
   "application/vnd.jupyter.widget-state+json": {
    "state": {
     "0188d07670fa4edca36f976741e3950e": {
      "model_module": "@jupyter-widgets/base",
      "model_module_version": "1.2.0",
      "model_name": "LayoutModel",
      "state": {
       "grid_template_areas": "\n                                       \". . . . right \"\n                                        ",
       "grid_template_columns": "20% 20% 20% 20% 20%",
       "width": "100%"
      }
     },
     "0e1e1b565a2449abad73ba89b5b2fc7b": {
      "model_module": "@jupyter-widgets/controls",
      "model_module_version": "1.5.0",
      "model_name": "HTMLModel",
      "state": {
       "layout": "IPY_MODEL_dee2ca1df960456a9bb9aaba7ad8dea1",
       "style": "IPY_MODEL_50980912d090415caf01ded255688542",
       "value": "<h5>Backend</h5>"
      }
     },
     "12618f40ab0e41c5899f3f13dae4477c": {
      "model_module": "@jupyter-widgets/controls",
      "model_module_version": "1.5.0",
      "model_name": "HTMLModel",
      "state": {
       "layout": "IPY_MODEL_5bf6c94e5d904f9196bcb03182daf90f",
       "style": "IPY_MODEL_8582411565104953a79b1ae233c537dd",
       "value": "<p style='font-family: IBM Plex Sans, Arial, Helvetica, sans-serif; font-size: 20px; font-weight: medium;'>Circuit Properties</p>"
      }
     },
     "13dec3777fd649bea2f65b854f0dbfe2": {
      "model_module": "@jupyter-widgets/controls",
      "model_module_version": "1.5.0",
      "model_name": "HTMLModel",
      "state": {
       "layout": "IPY_MODEL_82578127ebf846169a11041dfe40beff",
       "style": "IPY_MODEL_d98b3ef4c6e14fc5b171a01b5bef07a6",
       "value": "<h5>Job ID</h5>"
      }
     },
     "218d52de0b3b4cfcb33d95705ad9b654": {
      "model_module": "@jupyter-widgets/base",
      "model_module_version": "1.2.0",
      "model_name": "LayoutModel",
      "state": {}
     },
     "27eb2b9f4d0245bc82150dad174d1ff5": {
      "model_module": "@jupyter-widgets/controls",
      "model_module_version": "1.5.0",
      "model_name": "DescriptionStyleModel",
      "state": {
       "description_width": ""
      }
     },
     "2f2555d9c40c48ff8f759d05ee38c882": {
      "model_module": "@jupyter-widgets/controls",
      "model_module_version": "1.5.0",
      "model_name": "ButtonStyleModel",
      "state": {}
     },
     "3987eb89fc8b4d8eb1a9ca81a5383c21": {
      "model_module": "@jupyter-widgets/controls",
      "model_module_version": "1.5.0",
      "model_name": "DescriptionStyleModel",
      "state": {
       "description_width": ""
      }
     },
     "3abe1998573e4fc8b116bae58db898c6": {
      "model_module": "@jupyter-widgets/controls",
      "model_module_version": "1.5.0",
      "model_name": "DescriptionStyleModel",
      "state": {
       "description_width": ""
      }
     },
     "50980912d090415caf01ded255688542": {
      "model_module": "@jupyter-widgets/controls",
      "model_module_version": "1.5.0",
      "model_name": "DescriptionStyleModel",
      "state": {
       "description_width": ""
      }
     },
     "56133a3db84c4dbfbbcafe9a737e41b3": {
      "model_module": "@jupyter-widgets/base",
      "model_module_version": "1.2.0",
      "model_name": "LayoutModel",
      "state": {
       "width": "70px"
      }
     },
     "5bf6c94e5d904f9196bcb03182daf90f": {
      "model_module": "@jupyter-widgets/base",
      "model_module_version": "1.2.0",
      "model_name": "LayoutModel",
      "state": {
       "margin": "0px 0px 10px 0px"
      }
     },
     "607a35c80e8e42f08dfa6f9e90dafd95": {
      "model_module": "@jupyter-widgets/base",
      "model_module_version": "1.2.0",
      "model_name": "LayoutModel",
      "state": {
       "margin": "0px 0px 0px 37px",
       "width": "600px"
      }
     },
     "64ef317209344ed6b3c41b285f836a57": {
      "model_module": "@jupyter-widgets/controls",
      "model_module_version": "1.5.0",
      "model_name": "GridBoxModel",
      "state": {
       "children": [
        "IPY_MODEL_cfb0f4d9f3eb408682397cb1ea8a5867"
       ],
       "layout": "IPY_MODEL_0188d07670fa4edca36f976741e3950e"
      }
     },
     "6828e1d034ea46a3a7c1fcddb9ca43d1": {
      "model_module": "@jupyter-widgets/base",
      "model_module_version": "1.2.0",
      "model_name": "LayoutModel",
      "state": {
       "grid_area": "right",
       "padding": "0px 0px 0px 0px",
       "width": "70px"
      }
     },
     "82578127ebf846169a11041dfe40beff": {
      "model_module": "@jupyter-widgets/base",
      "model_module_version": "1.2.0",
      "model_name": "LayoutModel",
      "state": {
       "width": "190px"
      }
     },
     "8582411565104953a79b1ae233c537dd": {
      "model_module": "@jupyter-widgets/controls",
      "model_module_version": "1.5.0",
      "model_name": "DescriptionStyleModel",
      "state": {
       "description_width": ""
      }
     },
     "9834ba9dfaf443e5a36b29ebab05871c": {
      "model_module": "@jupyter-widgets/base",
      "model_module_version": "1.2.0",
      "model_name": "LayoutModel",
      "state": {
       "width": "95px"
      }
     },
     "a1b292ba642a4b018f3613b457863354": {
      "model_module": "@jupyter-widgets/controls",
      "model_module_version": "1.5.0",
      "model_name": "HBoxModel",
      "state": {
       "children": [
        "IPY_MODEL_13dec3777fd649bea2f65b854f0dbfe2",
        "IPY_MODEL_0e1e1b565a2449abad73ba89b5b2fc7b",
        "IPY_MODEL_a8f15f0da9b44ca2a0a1c892422ad3b1",
        "IPY_MODEL_d150839069764568af7f585678649715",
        "IPY_MODEL_b74779d55aad47769e70a7ba28c9a9e7"
       ],
       "layout": "IPY_MODEL_607a35c80e8e42f08dfa6f9e90dafd95"
      }
     },
     "a8f15f0da9b44ca2a0a1c892422ad3b1": {
      "model_module": "@jupyter-widgets/controls",
      "model_module_version": "1.5.0",
      "model_name": "HTMLModel",
      "state": {
       "layout": "IPY_MODEL_9834ba9dfaf443e5a36b29ebab05871c",
       "style": "IPY_MODEL_3abe1998573e4fc8b116bae58db898c6",
       "value": "<h5>Status</h5>"
      }
     },
     "b74779d55aad47769e70a7ba28c9a9e7": {
      "model_module": "@jupyter-widgets/controls",
      "model_module_version": "1.5.0",
      "model_name": "HTMLModel",
      "state": {
       "layout": "IPY_MODEL_218d52de0b3b4cfcb33d95705ad9b654",
       "style": "IPY_MODEL_3987eb89fc8b4d8eb1a9ca81a5383c21",
       "value": "<h5>Message</h5>"
      }
     },
     "cfb0f4d9f3eb408682397cb1ea8a5867": {
      "model_module": "@jupyter-widgets/controls",
      "model_module_version": "1.5.0",
      "model_name": "ButtonModel",
      "state": {
       "button_style": "primary",
       "description": "Clear",
       "layout": "IPY_MODEL_6828e1d034ea46a3a7c1fcddb9ca43d1",
       "style": "IPY_MODEL_2f2555d9c40c48ff8f759d05ee38c882"
      }
     },
     "d150839069764568af7f585678649715": {
      "model_module": "@jupyter-widgets/controls",
      "model_module_version": "1.5.0",
      "model_name": "HTMLModel",
      "state": {
       "layout": "IPY_MODEL_56133a3db84c4dbfbbcafe9a737e41b3",
       "style": "IPY_MODEL_27eb2b9f4d0245bc82150dad174d1ff5",
       "value": "<h5>Queue</h5>"
      }
     },
     "d98b3ef4c6e14fc5b171a01b5bef07a6": {
      "model_module": "@jupyter-widgets/controls",
      "model_module_version": "1.5.0",
      "model_name": "DescriptionStyleModel",
      "state": {
       "description_width": ""
      }
     },
     "dee2ca1df960456a9bb9aaba7ad8dea1": {
      "model_module": "@jupyter-widgets/base",
      "model_module_version": "1.2.0",
      "model_name": "LayoutModel",
      "state": {
       "width": "145px"
      }
     }
    },
    "version_major": 2,
    "version_minor": 0
   }
  }
 },
 "nbformat": 4,
 "nbformat_minor": 5
}
